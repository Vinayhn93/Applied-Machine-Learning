{
 "cells": [
  {
   "cell_type": "markdown",
   "metadata": {},
   "source": [
    "IMDB Dataset"
   ]
  },
  {
   "cell_type": "code",
   "execution_count": 56,
   "metadata": {},
   "outputs": [],
   "source": [
    "#Importing the Libraries\n",
    "from keras.datasets import imdb\n",
    "import numpy as np\n",
    "from keras import models\n",
    "from keras import layers"
   ]
  },
  {
   "cell_type": "code",
   "execution_count": 70,
   "metadata": {},
   "outputs": [],
   "source": [
    "#Splitting the Dataset into training and testing\n",
    "(train_data, train_labels), (test_data, test_labels) = imdb.load_data(num_words=10000)"
   ]
  },
  {
   "cell_type": "code",
   "execution_count": 58,
   "metadata": {},
   "outputs": [],
   "source": [
    "# Key is word and value is index\n",
    "word_index = imdb.get_word_index()"
   ]
  },
  {
   "cell_type": "code",
   "execution_count": 59,
   "metadata": {},
   "outputs": [],
   "source": [
    "#Fucntion to vectorize the input data. We can also use TF-IDF or other vectorization model\n",
    "def vectorize_sequences(sequences, dimension=10000):\n",
    "    results = np.zeros((len(sequences), dimension))       \n",
    "    for i, sequence in enumerate(sequences):\n",
    "        results[i, sequence] = 1                          \n",
    "    return results"
   ]
  },
  {
   "cell_type": "code",
   "execution_count": 60,
   "metadata": {},
   "outputs": [],
   "source": [
    "#Vectorizing the input data\n",
    "x_train = vectorize_sequences(train_data)\n",
    "x_test = vectorize_sequences(test_data)"
   ]
  },
  {
   "cell_type": "code",
   "execution_count": 62,
   "metadata": {},
   "outputs": [
    {
     "data": {
      "text/plain": [
       "array([0., 1., 1., ..., 0., 0., 0.])"
      ]
     },
     "execution_count": 62,
     "metadata": {},
     "output_type": "execute_result"
    }
   ],
   "source": [
    "x_train[0]"
   ]
  },
  {
   "cell_type": "code",
   "execution_count": 63,
   "metadata": {},
   "outputs": [],
   "source": [
    "#Chanfing the data type of our label from categorical to float\n",
    "y_train = np.asarray(train_labels).astype('float32')\n",
    "y_test = np.asarray(test_labels).astype('float32')"
   ]
  },
  {
   "cell_type": "code",
   "execution_count": 110,
   "metadata": {},
   "outputs": [],
   "source": [
    "#Creating the Dense model\n",
    "\n",
    "model = models.Sequential()\n",
    "model.add(layers.Dense(64, activation='relu', input_shape=x_train.shape))\n",
    "model.add(layers.Dense(32, activation='relu'))\n",
    "model.add(layers.Dense(1, activation='sigmoid'))"
   ]
  },
  {
   "cell_type": "code",
   "execution_count": 111,
   "metadata": {},
   "outputs": [],
   "source": [
    "#Compiling the model with rmsprop. we can use other advanced optimizer such as SGD+mometum, Adadelta, Adagrad \n",
    "\n",
    "model.compile(optimizer='rmsprop',loss='binary_crossentropy', metrics=['accuracy'])"
   ]
  },
  {
   "cell_type": "code",
   "execution_count": 112,
   "metadata": {},
   "outputs": [
    {
     "name": "stdout",
     "output_type": "stream",
     "text": [
      "Epoch 1/5\n",
      "WARNING:tensorflow:Model was constructed with shape (None, 25000, 10000) for input KerasTensor(type_spec=TensorSpec(shape=(None, 25000, 10000), dtype=tf.float32, name='dense_34_input'), name='dense_34_input', description=\"created by layer 'dense_34_input'\"), but it was called on an input with incompatible shape (None, 10000).\n",
      "WARNING:tensorflow:Model was constructed with shape (None, 25000, 10000) for input KerasTensor(type_spec=TensorSpec(shape=(None, 25000, 10000), dtype=tf.float32, name='dense_34_input'), name='dense_34_input', description=\"created by layer 'dense_34_input'\"), but it was called on an input with incompatible shape (None, 10000).\n",
      "98/98 [==============================] - 1s 8ms/step - loss: 0.4655 - accuracy: 0.7696\n",
      "Epoch 2/5\n",
      "98/98 [==============================] - 1s 8ms/step - loss: 0.2014 - accuracy: 0.9279\n",
      "Epoch 3/5\n",
      "98/98 [==============================] - 1s 8ms/step - loss: 0.1531 - accuracy: 0.9424\n",
      "Epoch 4/5\n",
      "98/98 [==============================] - 1s 8ms/step - loss: 0.1082 - accuracy: 0.9622\n",
      "Epoch 5/5\n",
      "98/98 [==============================] - 1s 8ms/step - loss: 0.0748 - accuracy: 0.9737\n"
     ]
    }
   ],
   "source": [
    "#Training the model\n",
    "history = model.fit(x_train, y_train, epochs=5, batch_size=256)"
   ]
  },
  {
   "cell_type": "code",
   "execution_count": 113,
   "metadata": {},
   "outputs": [
    {
     "name": "stdout",
     "output_type": "stream",
     "text": [
      "WARNING:tensorflow:Model was constructed with shape (None, 25000, 10000) for input KerasTensor(type_spec=TensorSpec(shape=(None, 25000, 10000), dtype=tf.float32, name='dense_34_input'), name='dense_34_input', description=\"created by layer 'dense_34_input'\"), but it was called on an input with incompatible shape (None, 10000).\n",
      "782/782 [==============================] - 1s 1ms/step - loss: 0.4125 - accuracy: 0.8692\n"
     ]
    }
   ],
   "source": [
    "results = model.evaluate(x_test, y_test)"
   ]
  },
  {
   "cell_type": "code",
   "execution_count": 114,
   "metadata": {},
   "outputs": [],
   "source": [
    "history_dict = history.history"
   ]
  },
  {
   "cell_type": "code",
   "execution_count": 115,
   "metadata": {},
   "outputs": [
    {
     "data": {
      "image/png": "[encoded data removed]",
      "text/plain": [
       "<Figure size 432x288 with 1 Axes>"
      ]
     },
     "metadata": {
      "needs_background": "light"
     },
     "output_type": "display_data"
    }
   ],
   "source": [
    "#Ploting the graph\n",
    "import matplotlib.pyplot as plt\n",
    "\n",
    "plt.clf()                                   \n",
    "acc = history_dict['accuracy']\n",
    "#val_acc = history_dict['val_acc']\n",
    "loss_values = history_dict['loss']\n",
    "epochs = range(1, len(loss_values) + 1)\n",
    "plt.plot(epochs, acc, '-', label='Training acc')\n",
    "#plt.plot(epochs, val_acc, 'b', label='Validation acc')\n",
    "plt.title('Training and validation accuracy')\n",
    "plt.plot(epochs, loss_values, '-', label='Training loss')  \n",
    "plt.xlabel('Epochs')\n",
    "plt.ylabel('Accuracy')\n",
    "plt.legend()\n",
    "\n",
    "plt.show()"
   ]
  },
  {
   "cell_type": "markdown",
   "metadata": {},
   "source": [
    "Summary:\n",
    "\n",
    "1. The model is overfitting and we should stop the Training at Epoch 3\n",
    "2. We Should change the Optimiser and minimize the complexity of the model\n"
   ]
  },
  {
   "cell_type": "code",
   "execution_count": null,
   "metadata": {},
   "outputs": [],
   "source": []
  }
 ],
 "metadata": {
  "kernelspec": {
   "display_name": "Python 3",
   "language": "python",
   "name": "python3"
  },
  "language_info": {
   "codemirror_mode": {
    "name": "ipython",
    "version": 3
   },
   "file_extension": ".py",
   "mimetype": "text/x-python",
   "name": "python",
   "nbconvert_exporter": "python",
   "pygments_lexer": "ipython3",
   "version": "3.7.9"
  }
 },
 "nbformat": 4,
 "nbformat_minor": 4
}
